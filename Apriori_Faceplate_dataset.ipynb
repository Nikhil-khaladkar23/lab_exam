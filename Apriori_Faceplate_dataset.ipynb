{
 "cells": [
  {
   "cell_type": "code",
   "execution_count": 8,
   "id": "f2c33295-593f-4fea-b248-57f941e6bcac",
   "metadata": {},
   "outputs": [],
   "source": [
    "import pandas as pd\n",
    "from mlxtend.frequent_patterns import apriori\n",
    "from mlxtend.frequent_patterns import association_rules\n"
   ]
  },
  {
   "cell_type": "code",
   "execution_count": 9,
   "id": "2ca8a7dd-415f-4c69-8b4c-03c68eea4224",
   "metadata": {},
   "outputs": [
    {
     "data": {
      "text/html": [
       "<div>\n",
       "<style scoped>\n",
       "    .dataframe tbody tr th:only-of-type {\n",
       "        vertical-align: middle;\n",
       "    }\n",
       "\n",
       "    .dataframe tbody tr th {\n",
       "        vertical-align: top;\n",
       "    }\n",
       "\n",
       "    .dataframe thead th {\n",
       "        text-align: right;\n",
       "    }\n",
       "</style>\n",
       "<table border=\"1\" class=\"dataframe\">\n",
       "  <thead>\n",
       "    <tr style=\"text-align: right;\">\n",
       "      <th></th>\n",
       "      <th>Red</th>\n",
       "      <th>White</th>\n",
       "      <th>Blue</th>\n",
       "      <th>Orange</th>\n",
       "      <th>Green</th>\n",
       "      <th>Yellow</th>\n",
       "    </tr>\n",
       "    <tr>\n",
       "      <th>Transaction</th>\n",
       "      <th></th>\n",
       "      <th></th>\n",
       "      <th></th>\n",
       "      <th></th>\n",
       "      <th></th>\n",
       "      <th></th>\n",
       "    </tr>\n",
       "  </thead>\n",
       "  <tbody>\n",
       "    <tr>\n",
       "      <th>1</th>\n",
       "      <td>1</td>\n",
       "      <td>1</td>\n",
       "      <td>0</td>\n",
       "      <td>0</td>\n",
       "      <td>1</td>\n",
       "      <td>0</td>\n",
       "    </tr>\n",
       "    <tr>\n",
       "      <th>2</th>\n",
       "      <td>0</td>\n",
       "      <td>1</td>\n",
       "      <td>0</td>\n",
       "      <td>1</td>\n",
       "      <td>0</td>\n",
       "      <td>0</td>\n",
       "    </tr>\n",
       "    <tr>\n",
       "      <th>3</th>\n",
       "      <td>0</td>\n",
       "      <td>1</td>\n",
       "      <td>1</td>\n",
       "      <td>0</td>\n",
       "      <td>0</td>\n",
       "      <td>0</td>\n",
       "    </tr>\n",
       "    <tr>\n",
       "      <th>4</th>\n",
       "      <td>1</td>\n",
       "      <td>1</td>\n",
       "      <td>0</td>\n",
       "      <td>1</td>\n",
       "      <td>0</td>\n",
       "      <td>0</td>\n",
       "    </tr>\n",
       "    <tr>\n",
       "      <th>5</th>\n",
       "      <td>1</td>\n",
       "      <td>0</td>\n",
       "      <td>1</td>\n",
       "      <td>0</td>\n",
       "      <td>0</td>\n",
       "      <td>0</td>\n",
       "    </tr>\n",
       "  </tbody>\n",
       "</table>\n",
       "</div>"
      ],
      "text/plain": [
       "             Red  White  Blue  Orange  Green  Yellow\n",
       "Transaction                                         \n",
       "1              1      1     0       0      1       0\n",
       "2              0      1     0       1      0       0\n",
       "3              0      1     1       0      0       0\n",
       "4              1      1     0       1      0       0\n",
       "5              1      0     1       0      0       0"
      ]
     },
     "execution_count": 9,
     "metadata": {},
     "output_type": "execute_result"
    }
   ],
   "source": [
    "fp_df = pd.read_csv(r\"C:\\users\\dhsup\\Desktop\\assingment\\Machine Learning\\Datasets\\Faceplate.csv\", index_col = 0)\n",
    "fp_df.head()"
   ]
  },
  {
   "cell_type": "code",
   "execution_count": 10,
   "id": "ff4fea91-a38a-4f60-825f-1f89a15cfe14",
   "metadata": {},
   "outputs": [],
   "source": [
    "##Create frequent itemsets\n",
    "fp_df = fp_df.astype(bool)\n",
    "itemsets = apriori(fp_df, min_support=0.2,\n",
    "                  use_colnames=True)"
   ]
  },
  {
   "cell_type": "code",
   "execution_count": 11,
   "id": "be20e833-b252-41c8-85ab-fa623ce6cec0",
   "metadata": {},
   "outputs": [
    {
     "name": "stdout",
     "output_type": "stream",
     "text": [
      "      antecedents   consequents  support  confidence      lift\n",
      "0           (Red)       (White)      0.4    0.666667  0.952381\n",
      "1          (Blue)         (Red)      0.4    0.666667  1.111111\n",
      "2           (Red)        (Blue)      0.4    0.666667  1.111111\n",
      "3         (Green)         (Red)      0.2    1.000000  1.666667\n",
      "4          (Blue)       (White)      0.4    0.666667  0.952381\n",
      "5        (Orange)       (White)      0.2    1.000000  1.428571\n",
      "6         (Green)       (White)      0.2    1.000000  1.428571\n",
      "7  (White, Green)         (Red)      0.2    1.000000  1.666667\n",
      "8    (Green, Red)       (White)      0.2    1.000000  1.428571\n",
      "9         (Green)  (White, Red)      0.2    1.000000  2.500000\n"
     ]
    }
   ],
   "source": [
    "#And  convert into rules\n",
    "rules = association_rules(itemsets, metric=\"confidence\", min_threshold=0.6)\n",
    "print(rules[[\"antecedents\", \"consequents\", \"support\", \"confidence\", \"lift\" ]])"
   ]
  },
  {
   "cell_type": "code",
   "execution_count": null,
   "id": "48e875a5-b3a6-4780-a785-087ac84da07b",
   "metadata": {},
   "outputs": [],
   "source": [
    "rules.sort_values(by=[\"lift\"], ascending= False).head(6)"
   ]
  },
  {
   "cell_type": "code",
   "execution_count": 15,
   "id": "95a69d84-1be6-426c-a25e-6ce5a306fb48",
   "metadata": {},
   "outputs": [],
   "source": [
    "rule_df = rules.sort_values(by=[\"lift\", \"confidence\"], ascending = False)\n"
   ]
  },
  {
   "cell_type": "code",
   "execution_count": 16,
   "id": "bef185a4-2c33-48c9-92f4-0f6b4d56e4e8",
   "metadata": {},
   "outputs": [
    {
     "name": "stdout",
     "output_type": "stream",
     "text": [
      "      antecedents   consequents  support  confidence      lift\n",
      "9         (Green)  (White, Red)      0.2    1.000000  2.500000\n",
      "3         (Green)         (Red)      0.2    1.000000  1.666667\n",
      "7  (White, Green)         (Red)      0.2    1.000000  1.666667\n",
      "5        (Orange)       (White)      0.2    1.000000  1.428571\n",
      "6         (Green)       (White)      0.2    1.000000  1.428571\n",
      "8    (Green, Red)       (White)      0.2    1.000000  1.428571\n",
      "1          (Blue)         (Red)      0.4    0.666667  1.111111\n",
      "2           (Red)        (Blue)      0.4    0.666667  1.111111\n",
      "0           (Red)       (White)      0.4    0.666667  0.952381\n",
      "4          (Blue)       (White)      0.4    0.666667  0.952381\n"
     ]
    }
   ],
   "source": [
    "print(rule_df[[\"antecedents\", \"consequents\", \"support\", \"confidence\", \"lift\" ]])"
   ]
  },
  {
   "cell_type": "code",
   "execution_count": 19,
   "id": "d0645902-8ae7-452b-b6f0-7e32079e6d3d",
   "metadata": {},
   "outputs": [
    {
     "name": "stdout",
     "output_type": "stream",
     "text": [
      "      antecedents   consequents  support  confidence      lift\n",
      "9         (Green)  (White, Red)      0.2    1.000000  2.500000\n",
      "3         (Green)         (Red)      0.2    1.000000  1.666667\n",
      "7  (White, Green)         (Red)      0.2    1.000000  1.666667\n",
      "5        (Orange)       (White)      0.2    1.000000  1.428571\n",
      "6         (Green)       (White)      0.2    1.000000  1.428571\n",
      "8    (Green, Red)       (White)      0.2    1.000000  1.428571\n",
      "1          (Blue)         (Red)      0.4    0.666667  1.111111\n",
      "2           (Red)        (Blue)      0.4    0.666667  1.111111\n"
     ]
    }
   ],
   "source": [
    "relv_rules = rule_df[rule_df[\"lift\"]>1]\n",
    "\n",
    "print(relv_rules[[\"antecedents\", \"consequents\", \"support\", \"confidence\", \"lift\" ]])"
   ]
  },
  {
   "cell_type": "code",
   "execution_count": null,
   "id": "d2c63764-308f-4b27-a6e1-f4c59a93714e",
   "metadata": {},
   "outputs": [],
   "source": []
  },
  {
   "cell_type": "code",
   "execution_count": null,
   "id": "bfabb0bb-e3da-4ec4-a6d2-a52746219c6f",
   "metadata": {},
   "outputs": [],
   "source": []
  }
 ],
 "metadata": {
  "kernelspec": {
   "display_name": "Python 3 (ipykernel)",
   "language": "python",
   "name": "python3"
  },
  "language_info": {
   "codemirror_mode": {
    "name": "ipython",
    "version": 3
   },
   "file_extension": ".py",
   "mimetype": "text/x-python",
   "name": "python",
   "nbconvert_exporter": "python",
   "pygments_lexer": "ipython3",
   "version": "3.11.7"
  }
 },
 "nbformat": 4,
 "nbformat_minor": 5
}
